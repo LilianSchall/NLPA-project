{
 "cells": [
  {
   "metadata": {},
   "cell_type": "markdown",
   "source": [
    "# Watermarking Example\n",
    "\n",
    "In this notebook, we will show an example of the watermarking process using the synthid library. This is simply used as a demonstration rather than an analysis.\n",
    "\n",
    "We will use the following models:\n",
    "- GPT2\n",
    "- Gemma 2B\n",
    "- OLMo 1B\n",
    "- Llama 3.2 1B\n",
    "\n",
    "For each model, we will generate text with and without watermarking, and compare the results."
   ],
   "id": "98eef1053c48f167"
  },
  {
   "metadata": {
    "ExecuteTime": {
     "end_time": "2024-12-11T18:18:51.995447Z",
     "start_time": "2024-12-11T18:18:47.739615Z"
    }
   },
   "cell_type": "code",
   "source": [
    "# Imports\n",
    "import gc\n",
    "\n",
    "from src.synthid_text import logits_processing\n",
    "from src.synthid_text import synthid_mixin\n",
    "\n",
    "import torch\n",
    "import transformers\n",
    "\n",
    "from hf_olmo import OLMoForCausalLM, OLMoTokenizerFast\n",
    "\n",
    "import warnings\n",
    "warnings.filterwarnings(\"ignore\")"
   ],
   "id": "7e0640042967150d",
   "outputs": [],
   "execution_count": 1
  },
  {
   "metadata": {
    "ExecuteTime": {
     "end_time": "2024-12-11T18:18:52.002437Z",
     "start_time": "2024-12-11T18:18:51.999463Z"
    }
   },
   "cell_type": "code",
   "source": [
    "# Hugging Face login\n",
    "#import huggingface_hub\n",
    "#huggingface_hub.notebook_login()"
   ],
   "id": "b64d9c9500b5e678",
   "outputs": [],
   "execution_count": 2
  },
  {
   "metadata": {
    "ExecuteTime": {
     "end_time": "2024-12-11T18:18:52.133003Z",
     "start_time": "2024-12-11T18:18:52.126146Z"
    }
   },
   "cell_type": "code",
   "source": [
    "# Device\n",
    "DEVICE = (\n",
    "    torch.device(\"cuda:0\") if torch.cuda.is_available() else torch.device(\"cpu\")\n",
    ")\n",
    "DEVICE"
   ],
   "id": "9c75f2f41fa5c0ca",
   "outputs": [
    {
     "data": {
      "text/plain": [
       "device(type='cpu')"
      ]
     },
     "execution_count": 3,
     "metadata": {},
     "output_type": "execute_result"
    }
   ],
   "execution_count": 3
  },
  {
   "metadata": {
    "ExecuteTime": {
     "end_time": "2024-12-11T18:18:52.153528Z",
     "start_time": "2024-12-11T18:18:52.148718Z"
    }
   },
   "cell_type": "code",
   "source": [
    "# Config\n",
    "CONFIG = synthid_mixin.DEFAULT_WATERMARKING_CONFIG\n",
    "CONFIG"
   ],
   "id": "247cd66b25ada98b",
   "outputs": [
    {
     "data": {
      "text/plain": [
       "immutabledict({'ngram_len': 5, 'keys': [654, 400, 836, 123, 340, 443, 597, 160, 57, 29, 590, 639, 13, 715, 468, 990, 966, 226, 324, 585, 118, 504, 421, 521, 129, 669, 732, 225, 90, 960], 'sampling_table_size': 65536, 'sampling_table_seed': 0, 'context_history_size': 1024, 'device': device(type='cpu')})"
      ]
     },
     "execution_count": 4,
     "metadata": {},
     "output_type": "execute_result"
    }
   ],
   "execution_count": 4
  },
  {
   "metadata": {
    "ExecuteTime": {
     "end_time": "2024-12-11T18:27:34.152903Z",
     "start_time": "2024-12-11T18:27:34.144708Z"
    }
   },
   "cell_type": "code",
   "source": [
    "def load_model(\n",
    "        model_name: str,\n",
    "        expected_device: torch.device,\n",
    "        enable_watermarking: bool\n",
    ") -> transformers.PreTrainedModel:\n",
    "    if model_name == \"gpt2\":\n",
    "        model_cls = (\n",
    "            synthid_mixin.SynthIDGPT2LMHeadModel\n",
    "            if enable_watermarking\n",
    "            else transformers.GPT2LMHeadModel\n",
    "        )\n",
    "        model = model_cls.from_pretrained(model_name, device_map=\"auto\")\n",
    "    elif model_name == \"google/gemma-2b-it\":\n",
    "        model_cls = (\n",
    "            synthid_mixin.SynthIDGemmaForCausalLM\n",
    "            if enable_watermarking\n",
    "            else transformers.GemmaForCausalLM\n",
    "        )\n",
    "        model = model_cls.from_pretrained(\n",
    "            model_name,\n",
    "            device_map=\"auto\",\n",
    "            torch_dtype=torch.bfloat16,\n",
    "        )\n",
    "    elif model_name == \"allenai/OLMo-1B\":\n",
    "        model_cls = (\n",
    "            synthid_mixin.SynthIDOlmoForCausalLM\n",
    "            if enable_watermarking\n",
    "            else OLMoForCausalLM\n",
    "        )\n",
    "        model = model_cls.from_pretrained(\n",
    "            model_name,\n",
    "            revision=\"step20000-tokens84B\",\n",
    "            device_map='auto',\n",
    "            torch_dtype=torch.bfloat16\n",
    "        )\n",
    "    elif model_name == \"meta-llama/Llama-3.2-1B\":\n",
    "        model_cls = (\n",
    "            synthid_mixin.SynthIDLlamaForCausalLM\n",
    "            if enable_watermarking\n",
    "            else transformers.LlamaForCausalLM\n",
    "        )\n",
    "        model = model_cls.from_pretrained(\n",
    "            model_name,\n",
    "            device_map=\"auto\",\n",
    "            torch_dtype=torch.bfloat16,\n",
    "        )\n",
    "    else:\n",
    "        model_cls = (\n",
    "            synthid_mixin.SynthIDAutoModelForCausalLM\n",
    "            if enable_watermarking\n",
    "            else transformers.AutoModelForCausalLM\n",
    "        )\n",
    "        model = model_cls.from_pretrained(\n",
    "            model_name,\n",
    "            device_map=\"auto\",\n",
    "            torch_dtype=torch.bfloat16,\n",
    "        )\n",
    "        \n",
    "    if str(model.device) != str(expected_device):\n",
    "        raise ValueError('Model device is not as expected.')\n",
    "    \n",
    "    return model"
   ],
   "id": "e01be1283ba2e03f",
   "outputs": [],
   "execution_count": 15
  },
  {
   "metadata": {
    "ExecuteTime": {
     "end_time": "2024-12-11T18:27:34.726791Z",
     "start_time": "2024-12-11T18:27:34.712137Z"
    }
   },
   "cell_type": "code",
   "source": [
    "def generate_text(\n",
    "        model_name: str,\n",
    "        input_text: str,\n",
    "        device: torch.device,\n",
    "        enable_watermarking: bool,\n",
    "):\n",
    "    gc.collect()\n",
    "    torch.cuda.empty_cache()\n",
    "    \n",
    "    tokenizer = transformers.AutoTokenizer.from_pretrained(model_name)\n",
    "    tokenizer.pad_token = tokenizer.eos_token\n",
    "    tokenizer.padding_side = \"left\"\n",
    "\n",
    "    #logits_processor = logits_processing.SynthIDLogitsProcessor(\n",
    "    #    **CONFIG, top_k=40, temperature=0.7\n",
    "    #)\n",
    "    \n",
    "    inputs = tokenizer(\n",
    "        input_text,\n",
    "        return_tensors=\"pt\",\n",
    "        padding=True,\n",
    "        return_token_type_ids=False\n",
    "    ).to(device)\n",
    "    \n",
    "    model = load_model(\n",
    "        model_name, expected_device=device, enable_watermarking=enable_watermarking\n",
    "    )\n",
    "    \n",
    "    torch.manual_seed(0)\n",
    "    outputs = model.generate(\n",
    "        **inputs,\n",
    "        do_sample=True,\n",
    "        temperature=0.7,\n",
    "        max_length=1024,\n",
    "        top_k=40,\n",
    "        pad_token_id=tokenizer.eos_token_id,\n",
    "    )\n",
    "    \n",
    "    for output in outputs:\n",
    "        print(tokenizer.decode(output, skip_special_tokens=True))\n",
    "    \n",
    "    del inputs, outputs, model\n",
    "    gc.collect()\n",
    "    torch.cuda.empty_cache()"
   ],
   "id": "53e8e92357a8d4d",
   "outputs": [],
   "execution_count": 16
  },
  {
   "metadata": {
    "ExecuteTime": {
     "end_time": "2024-12-11T18:27:36.491262Z",
     "start_time": "2024-12-11T18:27:36.488572Z"
    }
   },
   "cell_type": "code",
   "source": [
    "# Input text\n",
    "input_text = ['I enjoy walking with my cute dog']"
   ],
   "id": "29aa25b2dd4a0e51",
   "outputs": [],
   "execution_count": 17
  },
  {
   "metadata": {},
   "cell_type": "markdown",
   "source": "### GPT2",
   "id": "520999ef9b8a97f2"
  },
  {
   "metadata": {
    "ExecuteTime": {
     "end_time": "2024-12-11T18:18:59.141940Z",
     "start_time": "2024-12-11T18:18:52.227972Z"
    }
   },
   "cell_type": "code",
   "source": [
    "generate_text(\n",
    "    model_name='gpt2',\n",
    "    input_text=input_text,\n",
    "    device=DEVICE,\n",
    "    enable_watermarking=False)"
   ],
   "id": "78bf02bf006ee87f",
   "outputs": [
    {
     "name": "stdout",
     "output_type": "stream",
     "text": [
      "I enjoy walking with my cute dog,\" she said. \"He has a lot of aggression and I think he is getting a little bit more aggressive. He is an important part of my life and I appreciate that.\n",
      "\n",
      "\"I have to get out of this place because I love to walk with him,\" she added.\n",
      "\n",
      "The dogs were placed in a temporary enclosure after the animal went missing.\n",
      "\n",
      "A spokesperson for the Queensland Department of Rabbitohs and Wildlife said the animals were being taken to a vet.\n",
      "\n",
      "\"Our animal welfare officers are on scene and our team is investigating,\" the spokesperson said.\n",
      "\n",
      "\"We have received a report of a missing animal. We are looking at an animal welfare officer's report and will release any information as we can.\"\n",
      "\n",
      "Topics: animal-attacks, animals, rudd-7000, qld\n",
      "\n",
      "First posted\n"
     ]
    }
   ],
   "execution_count": 8
  },
  {
   "metadata": {
    "ExecuteTime": {
     "end_time": "2024-12-11T18:19:41.981873Z",
     "start_time": "2024-12-11T18:18:59.259439Z"
    }
   },
   "cell_type": "code",
   "source": [
    "generate_text(\n",
    "    model_name='gpt2',\n",
    "    input_text=input_text,\n",
    "    device=DEVICE,\n",
    "    enable_watermarking=True)"
   ],
   "id": "262c9180c631f100",
   "outputs": [
    {
     "name": "stdout",
     "output_type": "stream",
     "text": [
      "I enjoy walking with my cute dog. I love playing with his toy, and I love having him come over to my house to play with me. I like to run and play with him. I love the way he looks at me, and I feel like I have the best time with him because I know he has a great personality. I love how he looks like when he is around me. He is a great boy, and I feel like I am trying to be him. I want to make sure I am a good parent too, and make sure I am happy for him. It's very important to me that I treat him like a human being.\n",
      "\n",
      "What would you say to your 10-year-old daughter, Alyssa?\n",
      "\n",
      "Alyssa, I think I'm a little too young. I've been through a lot, and it's been tough for me since I started dating her. I think I am a little too young to be with her. I think that she's not getting what I want. I think that she's not getting what I want. I don't think I can be her mom. I think she's not getting what I want.\n",
      "\n",
      "What advice would you give your daughter about growing up?\n",
      "\n",
      "I can't give my advice to her. I know that she's not getting what I want. I love her and I love my daughter. I've been through so many situations, and I want her to be a good parent.\n",
      "\n",
      "What would you say about the lack of privacy for your daughter?\n",
      "\n",
      "I'm not really sure about her privacy. She's too young, and I don't think she wants to know about me. I think it's important that she understands that I am not doing anything to protect her privacy.\n",
      "\n",
      "If you could go back in time, what would it be like to have a child?\n",
      "\n",
      "Maybe I would have a little kid. Maybe I would have my own little girl. But I don't want to tell my daughter that she is a bad parent. I think that is something that should never happen to someone who is a good parent. My daughter is a good parent. She's a really good kid.\n",
      "\n",
      "How would you describe your relationship with your daughter?\n",
      "\n",
      "I don't know about my relationship. I think that she should be doing what she is doing. She shouldn't be acting like she's doing it to protect her privacy. I want her to be free to be herself.\n",
      "\n",
      "What advice would you give your daughter about growing up?\n",
      "\n",
      "I know that she doesn't have a lot of control over her life. She doesn't have to be in control of her life. I know that she's pretty good at dealing with her emotions. I don't know if she understands that she's not a good parent. I don't want her to be a bad parent. I just want her to be happy and happy and happy.\n",
      "\n",
      "What would you say to your daughter if she were to grow up in a world where your daughter was your only child?\n",
      "\n",
      "My daughter is very kind and very loving and very happy and always has a lot of love for her. It's not about how she can look at me or anything else, or how she can make me feel like she is my best friend, or how she can make me feel good for her.\n",
      "\n",
      "What would you say to your daughter if she were to grow up in a world where your daughter was your only child?\n",
      "\n",
      "My daughter is very kind and very loving and very happy and always has a lot of love for her. It's not about how she can look at me or anything else, or how she can make me feel good for her.\n",
      "\n",
      "What would you say to your daughter if she were to grow up in a world where your daughter was your only child?\n",
      "\n",
      "My daughter is very kind and very loving and always has a lot of love for her. It's not about how she can look at me or anything else, or how she can make me feel good for her.\n",
      "\n",
      "What would you say to your daughter if she were to grow up in a world where your daughter was your only child?\n",
      "\n",
      "My daughter is very kind and very loving and always has a lot of love for her. It's not about how she can look at me or anything else, or how she can make me feel good for her.\n",
      "\n",
      "What would you say to your daughter if she were to grow up in a world where your daughter was your only child?\n",
      "\n",
      "My daughter is very kind and very loving and always has a lot of love for her. It's not about how she can look at me or anything else, or how she can make me feel good for her.\n",
      "\n",
      "What would you say to your daughter if she were to grow up in a world where your daughter was your only child?\n",
      "\n",
      "My daughter is very kind and very loving and always has a lot of love for her\n"
     ]
    }
   ],
   "execution_count": 9
  },
  {
   "metadata": {},
   "cell_type": "markdown",
   "source": "### Gemma 2B",
   "id": "e85c0ebcddaec420"
  },
  {
   "metadata": {
    "ExecuteTime": {
     "end_time": "2024-12-11T18:22:03.456991Z",
     "start_time": "2024-12-11T18:19:46.740942Z"
    }
   },
   "cell_type": "code",
   "source": [
    "generate_text(\n",
    "    model_name='google/gemma-2b-it',\n",
    "    input_text=input_text,\n",
    "    device=DEVICE,\n",
    "    enable_watermarking=False\n",
    ")"
   ],
   "id": "4bd0d7499c32e316",
   "outputs": [
    {
     "name": "stderr",
     "output_type": "stream",
     "text": [
      "`config.hidden_act` is ignored, you should use `config.hidden_activation` instead.\n",
      "Gemma's activation function will be set to `gelu_pytorch_tanh`. Please, use\n",
      "`config.hidden_activation` if you want to override this behaviour.\n",
      "See https://github.com/huggingface/transformers/pull/29402 for more details.\n"
     ]
    },
    {
     "data": {
      "text/plain": [
       "Loading checkpoint shards:   0%|          | 0/2 [00:00<?, ?it/s]"
      ],
      "application/vnd.jupyter.widget-view+json": {
       "version_major": 2,
       "version_minor": 0,
       "model_id": "da80875a5cc94d1ca4708defd33f58c8"
      }
     },
     "metadata": {},
     "output_type": "display_data"
    },
    {
     "name": "stderr",
     "output_type": "stream",
     "text": [
      "Some parameters are on the meta device because they were offloaded to the disk and cpu.\n"
     ]
    },
    {
     "name": "stdout",
     "output_type": "stream",
     "text": [
      "I enjoy walking with my cute dog, but I need to be mindful of the distance we can walk while still keeping him safe. I'm not sure how far is safe for him.\n",
      "\n",
      "Here's a bit more information about my dog:\n",
      "\n",
      "* **Weight:** 15 pounds\n",
      "* **Age:** 4 years old\n",
      "* **Breed:** Golden Retriever\n",
      "* **Temperament:** Friendly and well-behaved\n",
      "\n",
      "I'd appreciate any advice you have on the safe walking distance for my dog.\n"
     ]
    }
   ],
   "execution_count": 10
  },
  {
   "metadata": {
    "ExecuteTime": {
     "end_time": "2024-12-11T18:23:00.253206Z",
     "start_time": "2024-12-11T18:22:03.466998Z"
    }
   },
   "cell_type": "code",
   "source": [
    "generate_text(\n",
    "    model_name='google/gemma-2b-it',\n",
    "    input_text=input_text,\n",
    "    device=DEVICE,\n",
    "    enable_watermarking=True\n",
    ")"
   ],
   "id": "e6998eff62e484f5",
   "outputs": [
    {
     "data": {
      "text/plain": [
       "Loading checkpoint shards:   0%|          | 0/2 [00:00<?, ?it/s]"
      ],
      "application/vnd.jupyter.widget-view+json": {
       "version_major": 2,
       "version_minor": 0,
       "model_id": "debc03a00542460999412ab8563e58ec"
      }
     },
     "metadata": {},
     "output_type": "display_data"
    },
    {
     "name": "stdout",
     "output_type": "stream",
     "text": [
      "I enjoy walking with my cute dog, Bailey. We go on walks together every day, and I love the companionship and the fresh air we breathe while we explore the neighborhood.\n",
      "\n",
      "However, I recently started noticing some changes in Bailey's behavior. He seems more lethargic, has a lower energy level, and isn't as responsive to my commands. I'm worried about these changes and want to make sure he's healthy and happy.\n",
      "\n",
      "What are some things I can do to help Bailey?\n",
      "\n",
      "1. Ensure he has enough exercise and playtime.\n",
      "2. Make sure he's getting a balanced diet.\n",
      "3. Make sure he's getting enough mental stimulation.\n",
      "4. Take him to the vet for a check-up.\n",
      "5. Consider adding supplements to his diet.\n"
     ]
    }
   ],
   "execution_count": 11
  },
  {
   "metadata": {},
   "cell_type": "markdown",
   "source": "### OLMo 1B",
   "id": "df2492ad912541f9"
  },
  {
   "metadata": {
    "ExecuteTime": {
     "end_time": "2024-12-11T18:24:06.296322Z",
     "start_time": "2024-12-11T18:23:00.272208Z"
    }
   },
   "cell_type": "code",
   "source": [
    "generate_text(\n",
    "    model_name='allenai/OLMo-1B',\n",
    "    input_text=input_text,\n",
    "    device=DEVICE,\n",
    "    enable_watermarking=False\n",
    ")"
   ],
   "id": "87371da54948742e",
   "outputs": [
    {
     "name": "stderr",
     "output_type": "stream",
     "text": [
      "The model weights are not tied. Please use the `tie_weights` method before using the `infer_auto_device` function.\n"
     ]
    },
    {
     "name": "stdout",
     "output_type": "stream",
     "text": [
      "I enjoy walking with my cute dog in the park, but also love the peacefulness and closeness of my family. I have a big heart, because I have been an foster dog for a long time and I need a home where I can fully relax and not be stressed. I'm looking for someone who is caring, loving, and honest, and I would be very happy to provide it. I can adapt to a variety of situations, but I like to have fun and see things from a different perspective. I'm a very kind person, and I want to be able to bring joy to others. I can't wait to meet you!\n",
      "The ideal match for this dog will be a family with dogs of similar sizes and temperament. There will be a full medical exam and a physical exam. If you think this is the dog for you, please contact us. We will be happy to answer any questions you might have.\n",
      "This dog is a bit on the small side, though I have a large heart. I am very gentle and kind, and I love to spend time with my family, especially my dog, and I need a dog that can be my constant companion. I am a very loving dog who is always happy to be with me and is happy to spend time with me. I come from a large family, so I have a lot of love and affection for my family. I love to walk and explore and have been told I am good for business. I am an easy-going dog, and I am a good dog-lover, so I would be happy to be your neighbor.  I can't wait to meet you.\n"
     ]
    }
   ],
   "execution_count": 12
  },
  {
   "metadata": {
    "ExecuteTime": {
     "end_time": "2024-12-11T18:25:55.633949Z",
     "start_time": "2024-12-11T18:24:06.383187Z"
    }
   },
   "cell_type": "code",
   "source": [
    "generate_text(\n",
    "    model_name='allenai/OLMo-1B',\n",
    "    input_text=input_text,\n",
    "    device=DEVICE,\n",
    "    enable_watermarking=True\n",
    ")"
   ],
   "id": "778029ec28a40a1a",
   "outputs": [
    {
     "name": "stderr",
     "output_type": "stream",
     "text": [
      "The model weights are not tied. Please use the `tie_weights` method before using the `infer_auto_device` function.\n"
     ]
    },
    {
     "name": "stdout",
     "output_type": "stream",
     "text": [
      "I enjoy walking with my cute dog, but sometimes the dog will let me down by not paying attention to her commands.\n",
      "I’m hoping to find some sort of way to train her to not let me down by not paying attention to her commands.\n",
      "A lot of my training takes place on the treadmill.\n",
      "It’s the one place where I can go to get my mind off of the fact that my dog isn’t paying attention to me.\n",
      "It’s also the only place where I can train my dog to not be scared of me.\n",
      "I can’t help it, I’m still terrified of her.\n",
      "I hope someone can help me, I’m desperate to get my dog to stop letting me down by not paying attention to her commands.\n",
      "My dog doesn’t mind me, but if I’m not paying attention to her, I can’t train her to be afraid of me.\n",
      "I hope someone can help me with this.\n",
      "I’ve tried everything I can think of, but to no avail.\n",
      "I have never been able to train my dog to not let me down by not paying attention to her commands.\n",
      "I’ve also tried to train her to not let me down by not paying attention to her commands, but I still can’t get her to not let me down by not paying attention to her commands.\n",
      "I’m hoping someone can help me with this.\n",
      "I’m wondering if there is a way that I can train my dog not to let me down by not paying attention to her commands.\n",
      "I’m hoping someone can help me with this.\n",
      "I have a dog who doesn’t like being outside in the cold, and I’m wondering if there is a way to train my dog not to be afraid of the cold, and to not let her down by not paying attention to me.\n",
      "I’m hoping someone can help me with this.\n",
      "I have a dog who doesn’t like being outside.\n",
      "I have a dog who doesn’t like being outside in the cold.\n",
      "I’m hoping someone can help me with this.\n",
      "I’m wondering if anyone can help me train my dog not to be afraid of the cold, and to not let her down by not paying attention to me.\n",
      "I’m wondering if anyone has any ideas or suggestions for me?\n",
      "I’m wondering if anyone has any suggestions for me.\n",
      "I’m wondering if anyone has any ideas or tips for me.\n",
      "I’m wondering if anyone has any ideas or tips for me.\n",
      "I’m wondering if anyone has any ideas or tips for me.\n",
      "I’m wondering if anyone has any ideas or tips for me.\n",
      "I’m wondering if anyone has any ideas or tips for me.\n"
     ]
    }
   ],
   "execution_count": 13
  },
  {
   "metadata": {},
   "cell_type": "markdown",
   "source": "### Llama 3.2 1B",
   "id": "1b99f2a1b79ddc6b"
  },
  {
   "metadata": {
    "ExecuteTime": {
     "end_time": "2024-12-11T18:27:55.065602Z",
     "start_time": "2024-12-11T18:27:40.807757Z"
    }
   },
   "cell_type": "code",
   "source": [
    "generate_text(\n",
    "    model_name='meta-llama/Llama-3.2-1B',\n",
    "    input_text=input_text,\n",
    "    device=DEVICE,\n",
    "    enable_watermarking=False\n",
    ")"
   ],
   "id": "fda9a44690c83bce",
   "outputs": [
    {
     "name": "stdout",
     "output_type": "stream",
     "text": [
      "I enjoy walking with my cute dog on the beach and exploring the sea. I have been a keen photographer for many years and love capturing the beauty and tranquillity of the North West coastline. I have a special interest in capturing the special moments of family life and enjoy photographing weddings and portraits of children.\n"
     ]
    }
   ],
   "execution_count": 18
  },
  {
   "metadata": {
    "ExecuteTime": {
     "end_time": "2024-12-11T18:30:38.373836Z",
     "start_time": "2024-12-11T18:27:55.069611Z"
    }
   },
   "cell_type": "code",
   "source": [
    "generate_text(\n",
    "    model_name='meta-llama/Llama-3.2-1B',\n",
    "    input_text=input_text,\n",
    "    device=DEVICE,\n",
    "    enable_watermarking=True\n",
    ")"
   ],
   "id": "99d248d46b7dae4e",
   "outputs": [
    {
     "name": "stdout",
     "output_type": "stream",
     "text": [
      "I enjoy walking with my cute dog. I have two cats. I love to read. I like to sew. I like to cook. I like to bake. I like to travel. I like to dance. I like to listen to music. I like to work. I like to party. I like to swim. I like to watch TV. I like to shop. I like to hang out. I like to play. I like to read books.\n",
      "I enjoy walking with my cute dog. I have two cats. I love to read. I like to sew. I like to cook. I like to bake. I like to travel. I like to dance. I like to listen to music. I like to work. I like to party. I like to swim. I like to watch TV. I like to shop. I like to hang out. I like to play. I like to read books.\n",
      "I like to play with my dog. I like to play with my cat. I like to play with my son. I like to play with my daughter. I like to play with my friends.\n",
      "I like to play with my dog. I like to play with my cat. I like to play with my son. I like to play with my daughter. I like to play with my friends.\n",
      "I like to play with my dog. I like to play with my cat. I like to play with my son. I like to play with my daughter. I like to play with my friends.\n",
      "I like to play with my dog. I like to play with my cat. I like to play with my son. I like to play with my daughter. I like to play with my friends.\n",
      "I like to play with my dog. I like to play with my cat. I like to play with my son. I like to play with my daughter. I like to play with my friends.\n",
      "I like to play with my dog. I like to play with my cat. I like to play with my son. I like to play with my daughter. I like to play with my friends.\n",
      "I like to play with my dog. I like to play with my cat. I like to play with my son. I like to play with my daughter. I like to play with my friends.\n",
      "I like to play with my dog. I like to play with my cat. I like to play with my son. I like to play with my daughter. I like to play with my friends.\n",
      "I like to play with my dog. I like to play with my cat. I like to play with my son. I like to play with my daughter. I like to play with my friends.\n",
      "I like to play with my dog. I like to play with my cat. I like to play with my son. I like to play with my daughter. I like to play with my friends.\n",
      "I like to play with my dog. I like to play with my cat. I like to play with my son. I like to play with my daughter. I like to play with my friends.\n",
      "I like to play with my dog. I like to play with my cat. I like to play with my son. I like to play with my daughter. I like to play with my friends.\n",
      "I like to play with my dog. I like to play with my cat. I like to play with my son. I like to play with my daughter. I like to play with my friends.\n",
      "I like to play with my dog. I like to play with my cat. I like to play with my son. I like to play with my daughter. I like to play with my friends.\n",
      "I like to play with my dog. I like to play with my cat. I like to play with my son. I like to play with my daughter. I like to play with my friends.\n",
      "I like to play with my dog. I like to play with my cat. I like to play with my son. I like to play with my daughter. I like to play with my friends.\n",
      "I like to play with my dog. I like to play with my cat. I like to play with my son. I like to play with my daughter. I like to play with my friends.\n",
      "I like to play with my dog. I like to play with my cat. I like to play with my son. I like to play with my daughter. I like to play with my friends.\n",
      "I like to play with my dog. I like to play with my cat. I like to play with my son. I like to play with my daughter. I like to play with my friends.\n",
      "I like to play with my dog. I like to play with my cat. I like to play with my son. I like to play with my daughter. I like to play with my friends.\n",
      "I like to play with my dog. I like to play with my cat. I like to play with my son. I like to play with my daughter. I like to play with\n"
     ]
    }
   ],
   "execution_count": 19
  },
  {
   "metadata": {},
   "cell_type": "code",
   "outputs": [],
   "execution_count": null,
   "source": "",
   "id": "9241a5143c178b6a"
  }
 ],
 "metadata": {
  "kernelspec": {
   "display_name": "Python 3",
   "language": "python",
   "name": "python3"
  },
  "language_info": {
   "codemirror_mode": {
    "name": "ipython",
    "version": 2
   },
   "file_extension": ".py",
   "mimetype": "text/x-python",
   "name": "python",
   "nbconvert_exporter": "python",
   "pygments_lexer": "ipython2",
   "version": "2.7.6"
  }
 },
 "nbformat": 4,
 "nbformat_minor": 5
}
